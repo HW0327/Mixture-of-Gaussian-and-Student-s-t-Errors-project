{
 "cells": [
  {
   "cell_type": "markdown",
   "id": "de6fb162",
   "metadata": {},
   "source": [
    "<h1>Mixture of Gaussian and Student's t measurement error model</h1>\n",
    "<h2> Description of data</h2>\n",
    "<p>\n",
    "    The package requires users to fit a three-column data file into the models. The first column should be the time of each observation in ascending order, the second column is the magnitude of brightness, and the third column is the error for each observation. If your datafile contains additional columns, be sure to filter out these three columns before bringing them into the program. In most cases, each column of data will have a header, so skip those header rows to avoid errors when loading your data. Detailed instructions for loading text files can be found <a href=\"https://numpy.org/doc/stable/reference/generated/numpy.loadtxt.html\">here </a>. Below is an example of the datafile.\n",
    "\n",
    "</p>\n",
    "<table>\n",
    "  <tr>\n",
    "    <td>383.59</td>\n",
    "    <td>17.993</td>\n",
    "    <td>0.063</td>\n",
    "  </tr>\n",
    "  <tr>\n",
    "    <td>398.76</td>\n",
    "    <td>18.010</td>\n",
    "    <td>0.083</td>\n",
    "  </tr>\n",
    "  <tr>\n",
    "    <td>419.70</td>\n",
    "    <td>18.066</td>\n",
    "    <td>0.069</td>\n",
    "  <tr>\n",
    "    <td>436.62</td>\n",
    "    <td>18.049</td>\n",
    "    <td>0.074</td>\n",
    "  <tr>\n",
    "    <td>471.60</td>\n",
    "    <td>18.098</td>\n",
    "    <td>0.064</td>\n",
    "  <tr>\n",
    "    <td>494.53</td>\n",
    "    <td>18.029</td>\n",
    "    <td>0.101</td>\n",
    "  <tr>\n",
    "    <td>501.49</td>\n",
    "    <td>18.047</td>\n",
    "    <td>0.078</td>\n",
    "  <tr>\n",
    "    <td>563.83</td>\n",
    "    <td>18.090</td>\n",
    "    <td>0.081</td>\n",
    "  </tr>\n",
    "  <tr>\n",
    "    <td>...</td>\n",
    "    <td>...</td>\n",
    "    <td>...</td>\n",
    "  </tr>\n",
    "</table>\n",
    "<p>\n",
    "  These three columns were extracted from macho.dat. The macho.dat is the brightness time series data of MACHO source 70.11469.82, and are irregularly observed via an R-band optical filter on 242 nights for 7.5 years since 1992. The graph below shows all 242 observations in macho.dat. The x-axis is the time for each observation, and the y-axis represents the magnitude of the brightness.\n",
    "</p>"
   ]
  },
  {
   "cell_type": "code",
   "execution_count": null,
   "id": "eea7c02a",
   "metadata": {},
   "outputs": [],
   "source": [
    "import numpy as np\n",
    "import matplotlib.pyplot as plt\n",
    "\n",
    "data = np.loadtxt(\"D:/project/datafile.txt\")\n",
    "x, y = data[:,0], data[:,1]\n",
    "plt.scatter(x,y)\n",
    "\n",
    "error = data[:,2]\n",
    "plt.errorbar(x, y, yerr=error, fmt=\"o\")\n",
    "plt.xlabel(\"observation time\")\n",
    "plt.ylabel(\"magnitude of brightness\")\n",
    "plt.show()\n"
   ]
  },
  {
   "cell_type": "markdown",
   "id": "d6dc471c",
   "metadata": {},
   "source": [
    "<h2>How to use the package and the outputs</h2>\n",
    "<p>\n",
    "  Each measurement in this package calculates eight parameters, mu (μ), log 10 of sigma (σ), log 10 of tau (τ), accept rate for tau, degree of freedom, accept rate for degree of freedom, theta (θ) and rate for Z. Since the package returns a list includes all the parameters, if the users want to retrieve any of the parameters, they simply specify the index of it in the list. Here is the index for each parameter.\n",
    "  </p>\n",
    "\n",
    "<table>\n",
    "  <tr>\n",
    "    <td>mu</td>\n",
    "    <td>0</td>\n",
    "  </tr>\n",
    "  <tr>\n",
    "    <td>sigma</td>\n",
    "    <td>1</td>\n",
    "  </tr>\n",
    "  <tr>\n",
    "    <td>tau</td>\n",
    "    <td>2</td>\n",
    "  <tr>\n",
    "    <td>accept rate for tau</td>\n",
    "    <td>3</td>\n",
    "  <tr>\n",
    "    <td>degree of freedom</td>\n",
    "    <td>4</td>\n",
    "  <tr>\n",
    "    <td>accept rate for degree of freedom</td>\n",
    "    <td>5</td>\n",
    "  <tr>\n",
    "    <td>theta</td>\n",
    "    <td>6</td>\n",
    "  <tr>\n",
    "    <td>rate for z</td>\n",
    "    <td>7</td>\n",
    "  </tr>\n",
    "</table>\n",
    "\n",
    "<p>\n",
    "  For example, if you want the 100 samples values of mu with Gt model, you can type the code below.\n",
    "</p>\n",
    "\n",
    "\n"
   ]
  },
  {
   "cell_type": "code",
   "execution_count": null,
   "id": "fe5441cf",
   "metadata": {},
   "outputs": [],
   "source": [
    "import drw4e as drw\n",
    "dat_temp = np.loadtxt(\"D:/project/macho.dat\", skiprows=2)\n",
    "\n",
    "# removing the data with negative measurement errors\n",
    "\n",
    "data = dat_temp[:, [0, 3, 4]]\n",
    "data = data[data[:,2]>0, :]\n",
    "gt = drw.Gt(data=data, nsample=100, nwarm=100)\n",
    "mu = gt[0]\n",
    "print (mu)"
   ]
  },
  {
   "cell_type": "markdown",
   "id": "ee3f9a45",
   "metadata": {},
   "source": [
    "<p>\n",
    "  In most cases, 100 sample data is far from enough. In order to be able to see tens of thousands of data clearly, storing the output data in a txt file is necessary. To continue the above example, you can run the following codes:\n",
    "</p>"
   ]
  },
  {
   "cell_type": "code",
   "execution_count": null,
   "id": "ab3c4d20",
   "metadata": {},
   "outputs": [],
   "source": [
    "import numpy as np\n",
    "datafile_path = \"D:/Gt_mu_notebook.txt\"\n",
    "np.savetxt(datafile_path , mu)"
   ]
  },
  {
   "cell_type": "markdown",
   "id": "9fa9992a",
   "metadata": {},
   "source": [
    "<p>\n",
    "  the “datafile_path” in the parenthesis defines where you want to save the txt file on your computer, and “mu” illustrates what you want to save in the txt file. If you want a txt file contains more elements such as, column names and specified format, please visit https://numpy.org/doc/stable/reference/generated/numpy.savetxt.html for more detailed instructions. \n",
    "  \n",
    "  Given the output MCMC samples, you can draw a pair-wise graph to have a better sense of the distribution. Here is an example of Gt model fitted with macho.dat.\n",
    "</p>"
   ]
  },
  {
   "cell_type": "code",
   "execution_count": null,
   "id": "ffc59bb5",
   "metadata": {},
   "outputs": [],
   "source": [
    "import numpy as np\n",
    "import pandas as pd\n",
    "import seaborn as sns\n",
    "import matplotlib.pyplot as plt\n",
    "\n",
    "data = np.loadtxt(\"D:/project/res_Gt.txt\", skiprows=1)\n",
    "a = data[:, 0]\n",
    "b = data[:, 1]\n",
    "c = data[:, 2]\n",
    "\n",
    "df = pd.DataFrame(list(zip(a, b, c)), columns=['mu', 'log10(sigma)', 'log10(tau)'])\n",
    "grid = sns.PairGrid(df, vars=['mu', 'log10(sigma)', 'log10(tau)'], corner=True)\n",
    "grid = grid.map_diag(plt.hist, bins = 10, edgecolor = 'k')\n",
    "grid = grid.map_lower(sns.kdeplot)\n",
    "plt.show()"
   ]
  },
  {
   "cell_type": "code",
   "execution_count": null,
   "id": "d8876e28",
   "metadata": {},
   "outputs": [],
   "source": []
  }
 ],
 "metadata": {
  "kernelspec": {
   "display_name": "Python 3 (ipykernel)",
   "language": "python",
   "name": "python3"
  },
  "language_info": {
   "codemirror_mode": {
    "name": "ipython",
    "version": 3
   },
   "file_extension": ".py",
   "mimetype": "text/x-python",
   "name": "python",
   "nbconvert_exporter": "python",
   "pygments_lexer": "ipython3",
   "version": "3.10.0"
  }
 },
 "nbformat": 4,
 "nbformat_minor": 5
}
