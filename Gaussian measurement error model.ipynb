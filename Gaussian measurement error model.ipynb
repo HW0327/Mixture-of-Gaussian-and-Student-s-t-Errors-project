{
 "cells": [
  {
   "cell_type": "markdown",
   "id": "d8604012",
   "metadata": {},
   "source": [
    "<h1>Gaussian measurement error model</h1>\n",
    "<h2>Description of data</h2>\n",
    "<p>\n",
    "    The package requires users to fit a three-column data file into the models. The first column should be the time of each observation in ascending order, the second column is the magnitude of brightness, and the third column is the error for each observation. If your datafile contains additional columns, be sure to filter out these three columns before bringing them into the program. In most cases, each column of data will have a header, so skip those header rows to avoid errors when loading your data. Detailed instructions for loading text files can be found <a href=\"https://numpy.org/doc/stable/reference/generated/numpy.loadtxt.html\">here </a>. Below is an example of the datafile.\n",
    "\n",
    "</p>\n",
    "<table>\n",
    "  <tr>\n",
    "    <td>383.59</td>\n",
    "    <td>17.993</td>\n",
    "    <td>0.063</td>\n",
    "  </tr>\n",
    "  <tr>\n",
    "    <td>398.76</td>\n",
    "    <td>18.010</td>\n",
    "    <td>0.083</td>\n",
    "  </tr>\n",
    "  <tr>\n",
    "    <td>419.70</td>\n",
    "    <td>18.066</td>\n",
    "    <td>0.069</td>\n",
    "  <tr>\n",
    "    <td>436.62</td>\n",
    "    <td>18.049</td>\n",
    "    <td>0.074</td>\n",
    "  <tr>\n",
    "    <td>471.60</td>\n",
    "    <td>18.098</td>\n",
    "    <td>0.064</td>\n",
    "  <tr>\n",
    "    <td>494.53</td>\n",
    "    <td>18.029</td>\n",
    "    <td>0.101</td>\n",
    "  <tr>\n",
    "    <td>501.49</td>\n",
    "    <td>18.047</td>\n",
    "    <td>0.078</td>\n",
    "  <tr>\n",
    "    <td>563.83</td>\n",
    "    <td>18.090</td>\n",
    "    <td>0.081</td>\n",
    "  </tr>\n",
    "  <tr>\n",
    "    <td>...</td>\n",
    "    <td>...</td>\n",
    "    <td>...</td>\n",
    "  </tr>\n",
    "</table>\n",
    "<p>\n",
    "  These three columns were extracted from macho.dat. The macho.dat is the brightness time series data of MACHO source 70.11469.82, and are irregularly observed via an R-band optical filter on 242 nights for 7.5 years since 1992. The graph below shows all 242 observations in macho.dat. The x-axis is the time for each observation, and the y-axis represents the magnitude of the brightness.\n",
    "</p>"
   ]
  },
  {
   "cell_type": "code",
   "execution_count": 1,
   "id": "aa463e1b",
   "metadata": {},
   "outputs": [
    {
     "data": {
      "image/png": "[encoded data removed]",
      "text/plain": [
       "<Figure size 432x288 with 1 Axes>"
      ]
     },
     "metadata": {
      "needs_background": "light"
     },
     "output_type": "display_data"
    }
   ],
   "source": [
    "import numpy as np\n",
    "import matplotlib.pyplot as plt\n",
    "\n",
    "data = np.loadtxt(\"D:/project/datafile.txt\")\n",
    "x, y = data[:,0], data[:,1]\n",
    "plt.scatter(x,y)\n",
    "\n",
    "error = data[:,2]\n",
    "plt.errorbar(x, y, yerr=error, fmt=\"o\")\n",
    "plt.xlabel(\"observation time\")\n",
    "plt.ylabel(\"magnitude of brightness\")\n",
    "plt.show()"
   ]
  },
  {
   "cell_type": "markdown",
   "id": "0a318d2f",
   "metadata": {},
   "source": [
    "<h2>Description of the function</h2>\n",
    "<p>\n",
    "    Gaussian measurement error (G) model is most effeicient when most of the data are normally observed, and few outliers exist.\n",
    "</p>\n",
    "<p>\n",
    "    There are 20 parameters involved in the calculation of G model. The following table shows the value and detailed descriptions for each parameter.\n",
    "</p>\n",
    "<table>\n",
    "  <tr>\n",
    "    <td>data:</td>\n",
    "    <td style='text-align: left'><strong>data</strong>. It defines the data that the user wants to fit for this model.</td>\n",
    "  </tr>\n",
    "  <tr>\n",
    "    <td>z_ini:</td>\n",
    "    <td style='text-align: left'><strong>np.repeat(0, len(time))</strong>. A list contains initial values of z<sub>i</sub>. z<sub>i</sub> is a latent outlier indicator that is 1 if datum i is an outlying observation and 0 otherwise. In this package, the initial value for each z is zero. So it is a list of zero, with length of number of observations.</td>\n",
    "  </tr>\n",
    "  <tr>\n",
    "    <td>theta_ini:</td>\n",
    "    <td style='text-align: left'><strong>0.01</strong>. An initial value of θ , which is the probability of being an outlier.</td>\n",
    "  </tr>\n",
    "  <tr>\n",
    "    <td>alpha_ini:</td>\n",
    "    <td style='text-align: left'><strong>np.repeat(1, len(time))</strong>. A list contains initial values of α<sub>i</sub>. Errors in two models with the same mean and different variances if α<sub>i</sub> is fixed at a constant or at its MLE. In this package, the initial value for each α is one. So it is a list of one, with length of number of observations.</td>\n",
    "  </tr>\n",
    "  <tr>\n",
    "    <td>OU_ini:</td>\n",
    "    <td style='text-align: left'><strong>list((18.2, 0.01, 200))</strong>. A list contains initial values for mu, sigma and tau respectively.</td>\n",
    "  </tr>\n",
    "  <tr>\n",
    "    <td>tau_prior_shape:</td>\n",
    "    <td style='text-align: left'><strong>1</strong>. The shape of the prior distribution for τ.</td>\n",
    "  </tr>\n",
    "  <tr>\n",
    "    <td>tau_prior_scale:</td>\n",
    "    <td style='text-align: left'><strong>1</strong>. The scale of the prior distribution for τ.</td>\n",
    "  </tr>\n",
    "  <tr>\n",
    "    <td>sigma_prior_shape:</td>\n",
    "    <td style='text-align: left'><strong>1</strong>. The shape of the prior distribution for σ.</td>\n",
    "  </tr>\n",
    "  <tr>\n",
    "    <td>sigma_prior_scale:</td>\n",
    "    <td style='text-align: left'><strong>10**(-7)</strong>. The scale of the prior distribution for σ.</td>\n",
    "  </tr>\n",
    "  <tr>\n",
    "    <td>tau_log_jump_scale:</td>\n",
    "    <td style='text-align: left'><strong>1.5</strong>. Don’t know.</td>\n",
    "  </tr>\n",
    "  <tr>\n",
    "    <td>a_beta:</td>\n",
    "    <td style='text-align: left'><strong>2.42</strong>. It is the product of the number of pseudo observations that affects the precision of the Beta prior distribution (k) and the proportion of outlying observations (m). It is involved in the calculation of Beta distribution of θ.</td>\n",
    "  </tr>\n",
    "  <tr>\n",
    "    <td>b_beta:</td>\n",
    "    <td style='text-align: left'><strong>239.58</strong>. It is the product of k and (1-m). It is involved in the calculation of Beta distribution of θ.</td>\n",
    "  </tr>\n",
    "  <tr>\n",
    "    <td>df_scale:</td>\n",
    "    <td style='text-align: left'><strong>0.23</strong>. The scale of a normal distribution, and the new degrees of freedom can be calculated by randomly picking a number from the normal distribution.</td>\n",
    "  </tr>\n",
    "  <tr>\n",
    "    <td>t_df:</td>\n",
    "    <td style='text-align: left'><strong>4</strong>. The initial value of degrees of freedom.</td>\n",
    "  </tr>\n",
    "  <tr>\n",
    "    <td>alpha_update:</td>\n",
    "    <td style='text-align: left'><strong>False</strong>. A boolean value used to determine whether to keep updating the value of α or not.</td>\n",
    "  </tr>\n",
    "  <tr>\n",
    "    <td>z_update:</td>\n",
    "    <td style='text-align: left'><strong>False</strong>. A boolean value used to determine whether to keep updating the value of z or not.</td>\n",
    "  </tr>\n",
    "  <tr>\n",
    "    <td>theta_update:</td>\n",
    "    <td style='text-align: left'><strong>False</strong>. A boolean value used to determine whether to keep updating the value of θ or not.</td>\n",
    "  </tr>\n",
    "  <tr>\n",
    "    <td>df_random:</td>\n",
    "    <td style='text-align: left'><strong>False</strong>. A boolean value used to determine whether to keep updating the value of degrees of freedom or not.</td>\n",
    "  </tr>\n",
    "  <tr>\n",
    "    <td>sample_size:</td>\n",
    "    <td style='text-align: left'><strong>nsample</strong>. Number of MCMC samples the user wants to fit for the model.</td>\n",
    "  </tr>\n",
    "  <tr>\n",
    "    <td>warmingup_size:</td>\n",
    "    <td style='text-align: left'><strong>nwarm</strong>. Number of MCMC samples the user wants to use for warming up.</td>\n",
    "  </tr>\n",
    "</table>\n",
    "<p>\n",
    "    Given these parameters, the function implements MCMC method on the model, and returns the outputs for users’ demands.  \n",
    "</p>"
   ]
  },
  {
   "cell_type": "markdown",
   "id": "d2e4f198",
   "metadata": {},
   "source": [
    "<h2>How to use the package and the outputs</h2>\n",
    "<p>\n",
    "  G measurement error model calculates eight parameters, mu (μ), log 10 of sigma (σ), log 10 of tau (τ), accept rate for tau, degree of freedom, accept rate for degree of freedom, theta (θ) and rate for Z. Since the package returns a list includes all the parameters, if the users want to retrieve any of the parameters, they simply specify the index of it in the list. Here is the index for each parameter.\n",
    "  </p>\n",
    "\n",
    "<table>\n",
    "  <tr>\n",
    "    <td>mu</td>\n",
    "    <td>0</td>\n",
    "  </tr>\n",
    "  <tr>\n",
    "    <td>sigma</td>\n",
    "    <td>1</td>\n",
    "  </tr>\n",
    "  <tr>\n",
    "    <td>tau</td>\n",
    "    <td>2</td>\n",
    "  <tr>\n",
    "    <td>accept rate for tau</td>\n",
    "    <td>3</td>\n",
    "  <tr>\n",
    "    <td>degree of freedom</td>\n",
    "    <td>4</td>\n",
    "  <tr>\n",
    "    <td>accept rate for degree of freedom</td>\n",
    "    <td>5</td>\n",
    "  <tr>\n",
    "    <td>theta</td>\n",
    "    <td>6</td>\n",
    "  <tr>\n",
    "    <td>rate for z</td>\n",
    "    <td>7</td>\n",
    "  </tr>\n",
    "</table>\n",
    "\n",
    "<p>\n",
    "  For example, if you want the 100 samples values of mu with G model, you can type the code below.\n",
    "</p>"
   ]
  },
  {
   "cell_type": "code",
   "execution_count": 3,
   "id": "62572aca",
   "metadata": {},
   "outputs": [
    {
     "name": "stdout",
     "output_type": "stream",
     "text": [
      "[17.65113063 17.58889256 17.62459571 17.67389768 17.73910446 17.68457846\n",
      " 17.78173493 17.76174433 17.61116546 17.63790916 17.70485052 17.62966105\n",
      " 17.70241201 17.67756974 17.63113459 17.63710971 17.60055958 17.72736192\n",
      " 17.77203046 17.72057706 17.69114217 17.67009279 17.5575576  17.62024262\n",
      " 17.61736214 17.62670723 17.77862531 17.75573892 17.65680784 17.70011445\n",
      " 17.7288165  17.66936743 17.57545643 17.75891388 17.72626319 17.75416588\n",
      " 17.71991812 17.70578185 17.79506618 17.79418698 17.77764355 17.63658748\n",
      " 17.68059322 17.71803386 17.7161026  17.7204488  17.71860618 17.65415449\n",
      " 17.69093823 17.63837289 17.70571923 17.63224472 17.67488876 17.68757203\n",
      " 17.79274653 17.56742534 17.59237316 17.52195315 17.87530592 17.72354471\n",
      " 17.68428788 17.44103988 17.76094721 17.32829313 17.87781309 17.47221625\n",
      " 17.41554319 17.80409983 17.84111857 17.83900148 17.80498471 17.87629104\n",
      " 17.56205705 17.73635105 17.72701213 17.6979949  17.72552959 17.68249727\n",
      " 17.60952708 17.74552275 17.78948893 17.80691858 17.66891968 17.66040816\n",
      " 17.69935952 17.67013932 17.62325819 17.68068609 17.76761436 17.59254982\n",
      " 17.56603112 17.64001138 17.7619918  17.65967807 17.76055683 17.6940458\n",
      " 17.65395279 17.81501187 17.58651735 17.73905886]\n"
     ]
    }
   ],
   "source": [
    "import drw4e as drw\n",
    "dat_temp = np.loadtxt(\"D:/project/macho.dat\", skiprows=2)\n",
    "\n",
    "# removing the data with negative measurement errors\n",
    "\n",
    "data = dat_temp[:, [0, 3, 4]]\n",
    "data = data[data[:,2]>0, :]\n",
    "\n",
    "g = drw.G(data=data, nsample=100, nwarm=100)\n",
    "mu = g[0]\n",
    "print (mu)"
   ]
  },
  {
   "cell_type": "markdown",
   "id": "2443d4d0",
   "metadata": {},
   "source": [
    "<p>\n",
    "  In most cases, 100 sample data is far from enough. In order to be able to see tens of thousands of data clearly, storing the output data in a txt file is necessary. To continue the above example, you can run the following codes:\n",
    "</p>"
   ]
  },
  {
   "cell_type": "code",
   "execution_count": 4,
   "id": "7afe7e2d",
   "metadata": {},
   "outputs": [],
   "source": [
    "import numpy as np\n",
    "datafile_path = \"D:/project/G_mu_notebook.txt\"\n",
    "np.savetxt(datafile_path , mu)"
   ]
  },
  {
   "cell_type": "markdown",
   "id": "959df1f2",
   "metadata": {},
   "source": [
    "<p>\n",
    " The “datafile_path” in the parenthesis defines where you want to save the txt file on your computer, and “mu” illustrates what you want to save in the txt file. If you want a txt file contains more elements such as, column names and specified format, please visit <a href=\"https://numpy.org/doc/stable/reference/generated/numpy.savetxt.html\">here</a>. for more detailed instructions. \n",
    "  \n",
    "  Given the output MCMC samples, you can draw a pair-wise graph to have a better sense of the distribution. Here is an example of G model fitted with macho.dat.\n",
    "</p>"
   ]
  },
  {
   "cell_type": "code",
   "execution_count": 5,
   "id": "e408413b",
   "metadata": {},
   "outputs": [
    {
     "data": {
      "image/png": "[encoded data removed]",
      "text/plain": [
       "<Figure size 540x540 with 9 Axes>"
      ]
     },
     "metadata": {
      "needs_background": "light"
     },
     "output_type": "display_data"
    }
   ],
   "source": [
    "import numpy as np\n",
    "import pandas as pd\n",
    "import seaborn as sns\n",
    "import matplotlib.pyplot as plt\n",
    "\n",
    "data = np.loadtxt(\"D:/project/res_G.txt\", skiprows=1)\n",
    "a = data[:, 0]\n",
    "b = data[:, 1]\n",
    "c = data[:, 2]\n",
    "\n",
    "df = pd.DataFrame(list(zip(a, b, c)), columns=['mu', 'log10(sigma)', 'log10(tau)'])\n",
    "grid = sns.PairGrid(df, vars=['mu', 'log10(sigma)', 'log10(tau)'], corner=True)\n",
    "grid = grid.map_diag(plt.hist, bins = 10, edgecolor = 'k')\n",
    "grid = grid.map_lower(sns.kdeplot)\n",
    "plt.show()"
   ]
  },
  {
   "cell_type": "code",
   "execution_count": null,
   "id": "3bbd4a48",
   "metadata": {},
   "outputs": [],
   "source": []
  }
 ],
 "metadata": {
  "kernelspec": {
   "display_name": "Python 3 (ipykernel)",
   "language": "python",
   "name": "python3"
  },
  "language_info": {
   "codemirror_mode": {
    "name": "ipython",
    "version": 3
   },
   "file_extension": ".py",
   "mimetype": "text/x-python",
   "name": "python",
   "nbconvert_exporter": "python",
   "pygments_lexer": "ipython3",
   "version": "3.10.0"
  }
 },
 "nbformat": 4,
 "nbformat_minor": 5
}
